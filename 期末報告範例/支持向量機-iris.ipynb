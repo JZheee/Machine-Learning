{
  "nbformat": 4,
  "nbformat_minor": 0,
  "metadata": {
    "colab": {
      "provenance": []
    },
    "kernelspec": {
      "name": "python3",
      "display_name": "Python 3"
    },
    "language_info": {
      "name": "python"
    }
  },
  "cells": [
    {
      "cell_type": "code",
      "execution_count": 2,
      "metadata": {
        "id": "oIe-PuiuseCV",
        "colab": {
          "base_uri": "https://localhost:8080/"
        },
        "outputId": "5e76e8b5-33ee-4f04-bd06-df6b8d2b589a"
      },
      "outputs": [
        {
          "output_type": "stream",
          "name": "stdout",
          "text": [
            "訓練資料正確率: 1.0\n",
            "測試資料正確率: 0.9777777777777777\n",
            "標準答案: [2 1 0 2 0 2 0 1 1 1 2 1 1 1 1 0 1 1 0 0 2 1 0 0 2 0 0 1 1 0 2 1 0 2 2 1 0\n",
            " 1 1 1 2 0 2 0 0]\n",
            "預測答案: [2 1 0 2 0 2 0 1 1 1 2 1 1 1 1 0 1 1 0 0 2 1 0 0 2 0 0 1 1 0 2 1 0 2 2 1 0\n",
            " 2 1 1 2 0 2 0 0]\n"
          ]
        }
      ],
      "source": [
        "# 匯入所需模組\n",
        "from sklearn import datasets, svm             # 載入資料集與 SVM 模型\n",
        "from sklearn.model_selection import train_test_split    # 用於切分訓練與測試資料\n",
        "\n",
        "# 載入鳶尾花資料集\n",
        "iris=datasets.load_iris()       # 載入內建的 Iris 資料集\n",
        "x=iris.data              # 特徵資料（花萼與花瓣的長度與寬度）\n",
        "y=iris.target             # 標籤資料（0=setosa, 1=versicolor, 2=virginica）\n",
        "\n",
        "# 切分資料為訓練集與測試集，測試資料占 30%\n",
        "train_data, test_data, train_label, test_label = train_test_split(x, y,test_size=0.3,random_state=0)\n",
        "\n",
        "# 建立 SVM 分類器\n",
        "# 使用多項式（polynomial）核函數，gamma 設為 'auto'（即 1 / 特徵數），C 為正則化參數（越大越容易過擬合）\n",
        "clf=svm.SVC(kernel='poly',gamma='auto',C=100)\n",
        "\n",
        "# 訓練模型\n",
        "clf.fit(train_data,train_label)\n",
        "print(\"訓練資料正確率:\",clf.score(train_data,train_label)) # 顯示模型在訓練資料上的正確率\n",
        "print(\"測試資料正確率:\",clf.score(test_data, test_label)) # 顯示模型在測試資料上的正確率\n",
        "predict=clf.predict(test_data)      # 對測試資料進行預測\n",
        "print(\"標準答案:\",test_label) # 顯示測試資料的實際標籤\n",
        "print(\"預測答案:\",predict)  # 顯示模型預測的標籤"
      ]
    }
  ]
}
