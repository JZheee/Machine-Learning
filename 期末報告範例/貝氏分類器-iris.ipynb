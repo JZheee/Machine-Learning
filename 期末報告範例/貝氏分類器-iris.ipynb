{
  "nbformat": 4,
  "nbformat_minor": 0,
  "metadata": {
    "colab": {
      "provenance": []
    },
    "kernelspec": {
      "name": "python3",
      "display_name": "Python 3"
    },
    "language_info": {
      "name": "python"
    }
  },
  "cells": [
    {
      "cell_type": "code",
      "execution_count": null,
      "metadata": {
        "colab": {
          "base_uri": "https://localhost:8080/"
        },
        "id": "6-d8294Qe-Nu",
        "outputId": "7a1ab692-d18b-4f14-cbb7-e67a0f031e8c"
      },
      "outputs": [
        {
          "output_type": "stream",
          "name": "stdout",
          "text": [
            "訓練資料正確率: 0.9428571428571428\n",
            "測試資料正確率: 1.0\n",
            "標準答案: [2 1 0 2 0 2 0 1 1 1 2 1 1 1 1 0 1 1 0 0 2 1 0 0 2 0 0 1 1 0 2 1 0 2 2 1 0\n",
            " 1 1 1 2 0 2 0 0]\n",
            "預測答案: [2 1 0 2 0 2 0 1 1 1 2 1 1 1 1 0 1 1 0 0 2 1 0 0 2 0 0 1 1 0 2 1 0 2 2 1 0\n",
            " 1 1 1 2 0 2 0 0]\n"
          ]
        }
      ],
      "source": [
        "# 匯入所需模組\n",
        "from sklearn import datasets                # 用來載入內建資料集\n",
        "from sklearn.naive_bayes import GaussianNB         # 引入 Gaussian Naive Bayes 分類器\n",
        "from sklearn.model_selection import train_test_split    # 用來將資料集分割為訓練與測試資料\n",
        "\n",
        "# 載入鳶尾花資料集\n",
        "iris=datasets.load_iris()     # 載入內建的 Iris 資料集\n",
        "x=iris.data            # 特徵資料（花的長度與寬度等）\n",
        "y=iris.target           # 標籤資料（0=setosa, 1=versicolor, 2=virginica）\n",
        "\n",
        "# 將資料集分割為訓練集與測試集\n",
        "train_data, test_data, train_label, test_label = train_test_split(x, y,test_size=0.3,random_state=0)    # test_size=0.3 表示測試資料占整體的 30% , random_state=0 確保每次執行分割結果一致（方便重現結果）\n",
        "clf=GaussianNB()             # 建立 Gaussian Naive Bayes 分類器\n",
        "clf.fit(train_data,train_label)     # 使用訓練資料訓練分類器\n",
        "print(\"訓練資料正確率:\",clf.score(train_data,train_label)) # 訓練資料正確率\n",
        "print(\"測試資料正確率:\",clf.score(test_data, test_label)) # 測試資料正確率\n",
        "predict=clf.predict(test_data)     # 使用模型對測試資料進行預測\n",
        "print(\"標準答案:\",test_label) # 標準答案\n",
        "print(\"預測答案:\",predict) # 預測答案"
      ]
    }
  ]
}