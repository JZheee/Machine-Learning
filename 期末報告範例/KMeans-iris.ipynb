{
  "nbformat": 4,
  "nbformat_minor": 0,
  "metadata": {
    "colab": {
      "provenance": []
    },
    "kernelspec": {
      "name": "python3",
      "display_name": "Python 3"
    },
    "language_info": {
      "name": "python"
    }
  },
  "cells": [
    {
      "cell_type": "code",
      "execution_count": null,
      "metadata": {
        "colab": {
          "base_uri": "https://localhost:8080/"
        },
        "id": "da2D6lIBouah",
        "outputId": "f90e719c-cac2-4796-fc4b-81fcf473c4fc"
      },
      "outputs": [
        {
          "output_type": "stream",
          "name": "stdout",
          "text": [
            "分群結果：\n",
            "[0 0 0 0 0 0 0 0 0 0 0 0 0 0 0 0 0 0 0 0 0 0 0 0 0 0 0 0 0 0 0 0 0 0 0 0 0\n",
            " 0 0 0 0 0 0 0 0 0 0 0 0 0 1 2 1 2 2 2 2 2 2 2 2 2 2 2 2 2 2 2 2 2 2 2 2 2\n",
            " 2 2 2 1 2 2 2 2 2 2 2 2 2 2 2 2 2 2 2 2 2 2 2 2 2 2 1 2 1 1 1 1 2 1 1 1 1\n",
            " 1 1 2 2 1 1 1 1 2 1 2 1 2 1 1 2 2 1 1 1 1 1 2 1 1 1 1 2 1 1 1 2 1 1 1 2 1\n",
            " 1 2]\n",
            "真實品種：\n",
            "[0 0 0 0 0 0 0 0 0 0 0 0 0 0 0 0 0 0 0 0 0 0 0 0 0 0 0 0 0 0 0 0 0 0 0 0 0\n",
            " 0 0 0 0 0 0 0 0 0 0 0 0 0 1 1 1 1 1 1 1 1 1 1 1 1 1 1 1 1 1 1 1 1 1 1 1 1\n",
            " 1 1 1 1 1 1 1 1 1 1 1 1 1 1 1 1 1 1 1 1 1 1 1 1 1 1 2 2 2 2 2 2 2 2 2 2 2\n",
            " 2 2 2 2 2 2 2 2 2 2 2 2 2 2 2 2 2 2 2 2 2 2 2 2 2 2 2 2 2 2 2 2 2 2 2 2 2\n",
            " 2 2]\n",
            "0.44666666666666666\n"
          ]
        }
      ],
      "source": [
        "# 匯入所需的函式庫\n",
        "from sklearn.cluster import KMeans        # 用於 KMeans 分群演算法\n",
        "from sklearn.datasets import load_iris      # 提供鳶尾花 (Iris) 資料集\n",
        "from sklearn.metrics import accuracy_score    # 用來評估分群結果與真實標籤的準確度\n",
        "\n",
        "# 讀入鳶尾花資料\n",
        "iris = load_iris()        # 載入鳶尾花資料集（含資料與標籤）\n",
        "iris_data = iris.data       # 取得特徵資料（花萼長度、花萼寬度、花瓣長度、花瓣寬度）\n",
        "iris_label = iris.target      # 取得真實的分類標籤（0=setosa, 1=versicolor, 2=virginica）\n",
        "\n",
        "# 建立分類器\n",
        "clf = KMeans(3)\n",
        "iris_clf = clf.fit(iris_data)   # 使用 iris 資料訓練分群模型\n",
        "\n",
        "# 取得模型分群後的標籤（即每筆資料被分配到哪一群）\n",
        "cluster_labels = iris_clf.labels_\n",
        "print(\"分群結果：\")\n",
        "print(cluster_labels)     # 輸出分群後的結果\n",
        "\n",
        "# 印出品種看看\n",
        "print(\"真實品種：\")\n",
        "print(iris_label)       # 輸出原始資料的標籤\n",
        "\n",
        "# 計算模型分群結果與實際標籤的準確率\n",
        "# 注意：KMeans 分群不一定與真實標籤順序對應，這樣比較準確率其實不完全合理\n",
        "print(accuracy_score(cluster_labels, iris_label))"
      ]
    }
  ]
}