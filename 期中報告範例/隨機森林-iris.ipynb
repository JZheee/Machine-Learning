{
  "nbformat": 4,
  "nbformat_minor": 0,
  "metadata": {
    "colab": {
      "provenance": []
    },
    "kernelspec": {
      "name": "python3",
      "display_name": "Python 3"
    },
    "language_info": {
      "name": "python"
    }
  },
  "cells": [
    {
      "cell_type": "code",
      "execution_count": null,
      "metadata": {
        "colab": {
          "base_uri": "https://localhost:8080/"
        },
        "id": "t6vdRVArFVOB",
        "outputId": "30b53126-8a5a-42d3-896b-a902108057ea"
      },
      "outputs": [
        {
          "output_type": "stream",
          "name": "stdout",
          "text": [
            "訓練資料正確率: 0.9904761904761905\n",
            "測試資料正確率: 1.0\n",
            "標準答案: [1 0 0 1 1 1 2 2 2 2 0 0 2 2 1 1 0 0 1 1 1 1 0 2 0 0 0 2 1 1 0 1 0 2 0 2 1\n",
            " 2 2 0 1 1 2 0 2]\n",
            "預測答案: [1 0 0 1 1 1 2 2 2 2 0 0 2 2 1 1 0 0 1 1 1 1 0 2 0 0 0 2 1 1 0 1 0 2 0 2 1\n",
            " 2 2 0 1 1 2 0 2]\n"
          ]
        }
      ],
      "source": [
        "# 載入所需套件\n",
        "from sklearn.ensemble import RandomForestClassifier   # 隨機森林分類器\n",
        "from sklearn.datasets import load_iris         # 內建鳶尾花資料集\n",
        "from sklearn.model_selection import train_test_split  # 切分訓練/測試資料\n",
        "\n",
        "# 讀入鳶尾花資料\n",
        "iris = load_iris()      # 載入資料集，回傳包含 data 與 target 的 Bunch 物件\n",
        "iris_data = iris.data    # 特徵資料：150 筆樣本 × 4 個特徵\n",
        "iris_label = iris.target   # 標籤資料：0=setosa, 1=versicolor, 2=virginica\n",
        "\n",
        "# 切分訓練與測試資料\n",
        "train_data, test_data, train_label, test_label = train_test_split(iris_data, iris_label, test_size = 0.3)   #    test_size=0.3 表示將 30% 的資料作為測試集，其餘 70% 作為訓練集  random_state 固定亂數種子，讓切分結果可重現\n",
        "\n",
        "# 建立分類器\n",
        "clf = RandomForestClassifier(n_estimators=30, max_depth=4)    # n_estimators：森林中樹的數量（這裡設定為 30 棵樹） max_depth：每棵樹的最大深度（這裡設定為 4 層，避免過度擬合）\n",
        "iris_clf = clf.fit(train_data, train_label)\n",
        "print(\"訓練資料正確率:\",clf.score(train_data,train_label)) # 訓練資料正確率\n",
        "print(\"測試資料正確率:\",clf.score(test_data, test_label)) # 測試資料正確率\n",
        "\n",
        "predict=clf.predict(test_data) # 預測\n",
        "print(\"標準答案:\",test_label) # 標準答案\n",
        "print(\"預測答案:\",predict) # 預測答案"
      ]
    },
    {
      "cell_type": "code",
      "source": [],
      "metadata": {
        "id": "rBaEEbxtGzLo"
      },
      "execution_count": null,
      "outputs": []
    }
  ]
}